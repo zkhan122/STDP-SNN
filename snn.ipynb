{
 "cells": [
  {
   "cell_type": "markdown",
   "metadata": {},
   "source": [
    "## to do list :\n",
    "    - 80 excitatory neurons\n",
    "    - 20 inhibitory neurons\n",
    "    - raster plot\n",
    "    - either use 2D or 3D spatially structured network \n",
    "        (start with LIF if possible)"
   ]
  },
  {
   "cell_type": "code",
   "execution_count": 13,
   "metadata": {},
   "outputs": [],
   "source": [
    "import matplotlib.pyplot as plt\n",
    "import nest \n",
    "import nest.voltage_trace\n",
    "\n",
    "nest.set_verbosity(\"M_WARNING\")\n",
    "nest.ResetKernel()"
   ]
  },
  {
   "cell_type": "code",
   "execution_count": null,
   "metadata": {},
   "outputs": [],
   "source": [
    "params_dict = {\"I_e\": 200.0, \"tau_m\": 20.0}\n",
    "\n",
    "excitatory_neuron_nodes = nest.Create(model=\"iaf_psc_alpha\", n=80, params=params_dict)\n",
    "inhibitory_neuron_nodes = nest.Create(model=\"iaf_psc_alpha\", n=20, params=params_dict)"
   ]
  },
  {
   "cell_type": "code",
   "execution_count": null,
   "metadata": {},
   "outputs": [],
   "source": [
    "print(excitatory_neuron_nodes)"
   ]
  },
  {
   "cell_type": "code",
   "execution_count": null,
   "metadata": {},
   "outputs": [],
   "source": [
    "print(inhibitory_neuron_nodes)"
   ]
  },
  {
   "cell_type": "markdown",
   "metadata": {},
   "source": [
    "# measurement tool"
   ]
  },
  {
   "cell_type": "code",
   "execution_count": null,
   "metadata": {},
   "outputs": [],
   "source": [
    "voltmeter = nest.Create(\"voltmeter\")\n",
    "print(voltmeter)"
   ]
  },
  {
   "cell_type": "code",
   "execution_count": null,
   "metadata": {},
   "outputs": [],
   "source": [
    "spike_recorder = nest.Create(\"spike_recorder\")\n",
    "print(spike_recorder)"
   ]
  },
  {
   "cell_type": "code",
   "execution_count": 23,
   "metadata": {},
   "outputs": [],
   "source": [
    "weight = 20.0\n",
    "delay = 1.0\n",
    "\n",
    "nest.Connect(excitatory_neuron_nodes, \n",
    "             inhibitory_neuron_nodes, \n",
    "             syn_spec={\n",
    "                        \"weight\": weight,\n",
    "                        \"delay\": delay\n",
    "                    })\n",
    "\n",
    "\n",
    "nest.Connect(voltmeter, excitatory_neuron_nodes)\n",
    "\n",
    "nest.Connect(voltmeter, inhibitory_neuron_nodes)\n",
    "\n",
    "nest.Connect(excitatory_neuron_nodes, spike_recorder)\n",
    "nest.Connect(inhibitory_neuron_nodes, spike_recorder)"
   ]
  },
  {
   "cell_type": "code",
   "execution_count": null,
   "metadata": {},
   "outputs": [],
   "source": [
    "nest.Simulate(1000.0)"
   ]
  },
  {
   "cell_type": "code",
   "execution_count": null,
   "metadata": {},
   "outputs": [],
   "source": [
    "nest.voltage_trace.from_device(voltmeter)\n",
    "plt.show()"
   ]
  },
  {
   "cell_type": "code",
   "execution_count": null,
   "metadata": {},
   "outputs": [],
   "source": [
    "import nest.raster_plot\n",
    "nest.raster_plot.from_device(spike_recorder, hist=True)\n",
    "plt.show()"
   ]
  }
 ],
 "metadata": {
  "language_info": {
   "name": "python"
  }
 },
 "nbformat": 4,
 "nbformat_minor": 2
}
