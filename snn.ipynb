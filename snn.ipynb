{
 "cells": [
  {
   "cell_type": "markdown",
   "metadata": {},
   "source": [
    "## AIMS\n",
    "\n",
    "- Model how synaptic strengths are dynamically modified based on pre and post synaptic (synapse -> point at which 2 neurons connect) spikes\n",
    "\n",
    "- Implementing various STDP rules to investigate connectivity, learning and memory formation\n",
    "\n",
    "- Analyze impact of different STDP parameters and network topologies "
   ]
  },
  {
   "cell_type": "markdown",
   "metadata": {},
   "source": [
    "## to do list :\n",
    "    - 80 excitatory neurons DONE\n",
    "    - 20 inhibitory neurons DONE\n",
    "    - raster plot DONE\n",
    "    - either use 2D or 3D spatially structured network \n",
    "        (start with LIF if possible) DONE\n",
    "    - Simulate pre learning VS Simulate post learning (how does synapse strength change in LIF? )\n",
    "    - Investigate Hodgkin-Huxley model (how does synapse strength change?)"
   ]
  },
  {
   "cell_type": "code",
   "execution_count": null,
   "metadata": {},
   "outputs": [],
   "source": [
    "import matplotlib.pyplot as plt\n",
    "import numpy as np\n",
    "import nest \n",
    "import nest.voltage_trace\n",
    "nest.set_verbosity(\"M_WARNING\")\n",
    "nest.ResetKernel()"
   ]
  },
  {
   "cell_type": "markdown",
   "metadata": {},
   "source": [
    "# PRE LEARNING"
   ]
  },
  {
   "cell_type": "code",
   "execution_count": null,
   "metadata": {},
   "outputs": [],
   "source": [
    "params_dict = {\"I_e\": 200.0, \"tau_m\": 20.0}\n",
    "\n",
    "excitatory_neuron_nodes = nest.Create(model=\"iaf_psc_alpha\", n=80, params=params_dict)\n",
    "inhibitory_neuron_nodes = nest.Create(model=\"iaf_psc_alpha\", n=20, params=params_dict)"
   ]
  },
  {
   "cell_type": "code",
   "execution_count": null,
   "metadata": {},
   "outputs": [],
   "source": [
    "print(excitatory_neuron_nodes)"
   ]
  },
  {
   "cell_type": "code",
   "execution_count": null,
   "metadata": {},
   "outputs": [],
   "source": [
    "print(inhibitory_neuron_nodes)"
   ]
  },
  {
   "cell_type": "markdown",
   "metadata": {},
   "source": [
    "### measurement tool"
   ]
  },
  {
   "cell_type": "code",
   "execution_count": null,
   "metadata": {},
   "outputs": [],
   "source": [
    "voltmeter = nest.Create(\"voltmeter\")\n",
    "print(voltmeter)"
   ]
  },
  {
   "cell_type": "code",
   "execution_count": null,
   "metadata": {},
   "outputs": [],
   "source": [
    "spike_recorder = nest.Create(\"spike_recorder\")  # https://nest-simulator.readthedocs.io/en/v2.18.0/models/detector.html -> called \"spike_dectector\" in documentation\n",
    "print(spike_recorder)"
   ]
  },
  {
   "cell_type": "code",
   "execution_count": null,
   "metadata": {},
   "outputs": [],
   "source": [
    "weight = 20.0\n",
    "delay = 1.0\n",
    "p = 0.2\n",
    "\n",
    "connection_spec = {\"rule\": \"pairwise_bernoulli\", \"p\": p}\n",
    "\n",
    "nest.Connect(excitatory_neuron_nodes,\n",
    "             excitatory_neuron_nodes,\n",
    "             connection_spec,\n",
    "             syn_spec={\n",
    "                 \"weight\": weight,\n",
    "                 \"delay\": delay\n",
    "             })\n",
    "\n",
    "nest.Connect(inhibitory_neuron_nodes,\n",
    "             inhibitory_neuron_nodes,\n",
    "             connection_spec,\n",
    "             syn_spec={\n",
    "                 \"weight\": -50.0,\n",
    "                 \"delay\": delay\n",
    "             })\n",
    "\n",
    "nest.Connect(excitatory_neuron_nodes, \n",
    "             inhibitory_neuron_nodes, \n",
    "             connection_spec,\n",
    "             syn_spec={\n",
    "                \"weight\": weight,\n",
    "                \"delay\": delay\n",
    "            })\n",
    "\n",
    "\n",
    "nest.Connect(inhibitory_neuron_nodes,\n",
    "             excitatory_neuron_nodes,\n",
    "             connection_spec,\n",
    "             syn_spec={\n",
    "                \"weight\": -50.0,\n",
    "                \"delay\": delay\n",
    "            })"
   ]
  },
  {
   "cell_type": "markdown",
   "metadata": {},
   "source": [
    "## Parameters definition"
   ]
  },
  {
   "cell_type": "markdown",
   "metadata": {},
   "source": [
    "- I_e -> External current \n",
    "- tau_m -> How quickly neuron's membrane potential decays back to stabilised rate\n",
    "- synapse_model -> Specifying use of STDP model so that the synapses (connections) can learn\n",
    "- weight -> Synapse strength\n",
    "- delay -> time it takes for one spike to travel from one neuron to another\n",
    "- alpha -> learning rate for changing the synaptic weight\n",
    "- tau_plus -> Time it takes for synapse to strengthen after fire?\n"
   ]
  },
  {
   "cell_type": "code",
   "execution_count": null,
   "metadata": {},
   "outputs": [],
   "source": [
    "nest.Connect(voltmeter, excitatory_neuron_nodes)\n",
    "\n",
    "nest.Connect(voltmeter, inhibitory_neuron_nodes)\n",
    "\n",
    "nest.Connect(excitatory_neuron_nodes, spike_recorder)\n",
    "nest.Connect(inhibitory_neuron_nodes, spike_recorder)"
   ]
  },
  {
   "cell_type": "code",
   "execution_count": null,
   "metadata": {},
   "outputs": [],
   "source": [
    "nest.Simulate(400.0)"
   ]
  },
  {
   "cell_type": "code",
   "execution_count": null,
   "metadata": {},
   "outputs": [],
   "source": [
    "nest.SetStatus(voltmeter, params={})"
   ]
  },
  {
   "cell_type": "code",
   "execution_count": null,
   "metadata": {},
   "outputs": [],
   "source": [
    "nest.voltage_trace.from_device(voltmeter)\n",
    "# plt.legend().set_visible(False)\n",
    "plt.legend(loc='upper center', bbox_to_anchor=(0.5, -0.05),\n",
    "          fancybox=True, shadow=True, ncol=5)\n",
    "plt.show()"
   ]
  },
  {
   "cell_type": "code",
   "execution_count": null,
   "metadata": {},
   "outputs": [],
   "source": [
    "import nest.raster_plot\n",
    "nest.raster_plot.from_device(spike_recorder, hist=True)\n",
    "plt.show()"
   ]
  },
  {
   "cell_type": "code",
   "execution_count": null,
   "metadata": {},
   "outputs": [],
   "source": [
    "initial_connections = nest.GetConnections(source=excitatory_neuron_nodes, target=inhibitory_neuron_nodes)\n",
    "initial_weights = nest.GetStatus(initial_connections, 'weight')"
   ]
  },
  {
   "cell_type": "markdown",
   "metadata": {},
   "source": [
    "# POST LEARNING"
   ]
  },
  {
   "cell_type": "code",
   "execution_count": null,
   "metadata": {},
   "outputs": [],
   "source": [
    "# nest.ResetKernel()"
   ]
  },
  {
   "cell_type": "code",
   "execution_count": null,
   "metadata": {},
   "outputs": [],
   "source": [
    "params_dict_2 = {\"I_e\": 200.0, \"tau_m\": 20.0}\n",
    "\n",
    "syn_spec_stdp = {\n",
    "    \"model\": \"stdp_synapse\",\n",
    "    \"weight\": 20.0,\n",
    "    \"delay\": 1.0\n",
    "}\n",
    "\n",
    "excitatory_neuron_nodes_2 = nest.Create(model=\"iaf_psc_alpha\", n=80, params=params_dict_2)\n",
    "inhibitory_neuron_nodes_2 = nest.Create(model=\"iaf_psc_alpha\", n=20, params=params_dict_2)"
   ]
  },
  {
   "cell_type": "markdown",
   "metadata": {},
   "source": [
    "##  connection excitatory-excitatory, inhibitory-inhibitory, excitatory-inhibitory, inhibitory-excitatory \n",
    "\n",
    "\n",
    "- Note: inhibitory must be set to negative reduce activity or other neurons and ensure stable activity"
   ]
  },
  {
   "cell_type": "code",
   "execution_count": null,
   "metadata": {},
   "outputs": [],
   "source": [
    "\n",
    "connection_spec_2 = {\"rule\": \"pairwise_bernoulli\", \"p\": 0.2} # sparsely connected network as each neuron is set to connection chance of 20%\n",
    "\n",
    "\n",
    "nest.Connect(excitatory_neuron_nodes_2,\n",
    "             excitatory_neuron_nodes_2,\n",
    "             connection_spec_2,\n",
    "             syn_spec={\n",
    "                 \"synapse_model\": \"stdp_synapse\",\n",
    "                 \"weight\": syn_spec_stdp[\"weight\"],\n",
    "                 \"delay\": syn_spec_stdp[\"delay\"]\n",
    "             })\n",
    "\n",
    "nest.Connect(inhibitory_neuron_nodes_2,\n",
    "             inhibitory_neuron_nodes_2,\n",
    "             connection_spec_2,\n",
    "             syn_spec={\n",
    "                \"synapse_model\": \"stdp_synapse\",\n",
    "                \"weight\": -50.0,\n",
    "                \"delay\": syn_spec_stdp[\"delay\"]\n",
    "            })\n",
    "\n",
    "\n",
    "nest.Connect(excitatory_neuron_nodes_2,\n",
    "             inhibitory_neuron_nodes_2,\n",
    "             connection_spec_2,\n",
    "             syn_spec={\n",
    "                    \"synapse_model\": \"stdp_synapse\",\n",
    "                    \"weight\": syn_spec_stdp[\"weight\"],\n",
    "                    \"delay\": syn_spec_stdp[\"delay\"]\n",
    "            })\n",
    "\n",
    "nest.Connect(inhibitory_neuron_nodes_2,\n",
    "            excitatory_neuron_nodes_2,\n",
    "            connection_spec_2,\n",
    "            syn_spec={\n",
    "                \"synapse_model\": \"stdp_synapse\",\n",
    "                \"weight\": -50.0,\n",
    "                \"delay\": syn_spec_stdp[\"delay\"]\n",
    "            })"
   ]
  },
  {
   "cell_type": "code",
   "execution_count": null,
   "metadata": {},
   "outputs": [],
   "source": [
    "spike_recorder_2 = nest.Create(\"spike_recorder\")\n",
    "print(spike_recorder_2)"
   ]
  },
  {
   "cell_type": "code",
   "execution_count": null,
   "metadata": {},
   "outputs": [],
   "source": [
    "stimulus_2 = nest.Create(\"poisson_generator\", params={\"rate\": 1000.0})\n",
    "nest.Connect(stimulus_2, excitatory_neuron_nodes_2[:10]) \n",
    "\n",
    "\n",
    "nest.Connect(excitatory_neuron_nodes_2, spike_recorder_2)\n",
    "nest.Connect(inhibitory_neuron_nodes_2, spike_recorder_2)"
   ]
  },
  {
   "cell_type": "code",
   "execution_count": null,
   "metadata": {},
   "outputs": [],
   "source": [
    "nest.Simulate(400)"
   ]
  },
  {
   "cell_type": "code",
   "execution_count": null,
   "metadata": {},
   "outputs": [],
   "source": [
    "nest.raster_plot.from_device(spike_recorder_2, hist=True)\n",
    "plt.show()"
   ]
  },
  {
   "cell_type": "code",
   "execution_count": null,
   "metadata": {},
   "outputs": [],
   "source": [
    "final_connections = nest.GetConnections(source=excitatory_neuron_nodes_2, target=inhibitory_neuron_nodes_2)\n",
    "final_weights = nest.GetStatus(final_connections, 'weight')"
   ]
  },
  {
   "cell_type": "code",
   "execution_count": null,
   "metadata": {},
   "outputs": [],
   "source": [
    "print(f\"Initial mean weight (PRE LEARNING PHASE): {np.mean(initial_weights)}\")\n",
    "print(f\"Final mean weight: {np.mean(final_weights)}\")"
   ]
  },
  {
   "cell_type": "markdown",
   "metadata": {},
   "source": [
    "## current state: the synaptic weight has increased"
   ]
  },
  {
   "cell_type": "markdown",
   "metadata": {},
   "source": [
    "# Training the SNN to understand patterns through temporal-sequential learning\n",
    "\n",
    "# Each sequence will be trained on a separate group of excitatory neurons -> 80 excitatory neurons / 3 = 26.6 - 27 per group\n",
    "\n",
    "# Sequence times must be > 400 ms because we are already simulating for 0-400ms above"
   ]
  },
  {
   "cell_type": "code",
   "execution_count": null,
   "metadata": {},
   "outputs": [],
   "source": [
    "sequence_times = {\n",
    "    \"SEQUENCE_1\": [410, 510, 610, 710],\n",
    "    \"SEQUENCE_2\": [430, 539, 630, 730],\n",
    "    \"SEQUENCE_3\": [450, 550, 650, 750]\n",
    "}"
   ]
  },
  {
   "cell_type": "code",
   "execution_count": null,
   "metadata": {},
   "outputs": [],
   "source": [
    "group_A = excitatory_neuron_nodes[:27]\n",
    "group_B = excitatory_neuron_nodes[27:54]\n",
    "group_C = excitatory_neuron_nodes[54:79]"
   ]
  },
  {
   "cell_type": "code",
   "execution_count": null,
   "metadata": {},
   "outputs": [],
   "source": [
    "print(group_A)\n",
    "print(group_B)\n",
    "print(group_C)"
   ]
  },
  {
   "cell_type": "markdown",
   "metadata": {},
   "source": [
    "## Now to use `spike_generator` to generate spikes from our sequence array of spike times "
   ]
  },
  {
   "cell_type": "code",
   "execution_count": null,
   "metadata": {},
   "outputs": [],
   "source": [
    "seq_1_generated = nest.Create(\"spike_generator\", params={\"spike_times\": sequence_times[\"SEQUENCE_1\"]})\n",
    "seq_2_generated = nest.Create(\"spike_generator\", params={\"spike_times\": sequence_times[\"SEQUENCE_2\"]})\n",
    "seq_3_generated = nest.Create(\"spike_generator\", params={\"spike_times\": sequence_times[\"SEQUENCE_3\"]})"
   ]
  },
  {
   "cell_type": "code",
   "execution_count": null,
   "metadata": {},
   "outputs": [],
   "source": [
    "print(seq_1_generated)\n",
    "print(seq_2_generated)\n",
    "print(seq_3_generated)"
   ]
  },
  {
   "cell_type": "code",
   "execution_count": null,
   "metadata": {},
   "outputs": [],
   "source": [
    "nest.Connect(seq_1_generated, group_A)\n",
    "nest.Connect(seq_2_generated, group_B)\n",
    "nest.Connect(seq_3_generated, group_C)"
   ]
  },
  {
   "cell_type": "markdown",
   "metadata": {},
   "source": [
    "## Creating separate spike recorders for each group on excitatory neurons to analyze separately"
   ]
  },
  {
   "cell_type": "code",
   "execution_count": null,
   "metadata": {},
   "outputs": [],
   "source": [
    "spike_recorder_A = nest.Create(\"spike_recorder\")\n",
    "spike_recorder_B = nest.Create(\"spike_recorder\")\n",
    "spike_recorder_C = nest.Create(\"spike_recorder\")"
   ]
  },
  {
   "cell_type": "code",
   "execution_count": null,
   "metadata": {},
   "outputs": [],
   "source": [
    "nest.Connect(group_A, spike_recorder_A)\n",
    "nest.Connect(group_B, spike_recorder_B)\n",
    "nest.Connect(group_C, spike_recorder_C)"
   ]
  },
  {
   "cell_type": "code",
   "execution_count": null,
   "metadata": {},
   "outputs": [],
   "source": [
    "nest.Simulate(400)"
   ]
  },
  {
   "cell_type": "code",
   "execution_count": null,
   "metadata": {},
   "outputs": [],
   "source": [
    "nest.raster_plot.from_device(spike_recorder_A, hist=True)\n",
    "plt.title(\"Group A (Sequence 1)\")\n",
    "plt.show()\n",
    "\n",
    "\n",
    "nest.raster_plot.from_device(spike_recorder_B, hist=True)\n",
    "plt.title(\"Group B (Sequence 2)\")\n",
    "plt.show()\n",
    "\n",
    "\n",
    "nest.raster_plot.from_device(spike_recorder_C, hist=True)\n",
    "plt.title(\"Group C (Sequence 3)\")\n",
    "plt.show()"
   ]
  },
  {
   "cell_type": "code",
   "execution_count": null,
   "metadata": {},
   "outputs": [],
   "source": [
    "# spike_recorder.get(\"events\")"
   ]
  },
  {
   "cell_type": "code",
   "execution_count": null,
   "metadata": {},
   "outputs": [],
   "source": [
    "print(\"Spike generator A times:\", nest.GetStatus(seq_1_generated, 'spike_times'))\n",
    "print(\"Spike generator B times:\", nest.GetStatus(seq_2_generated, 'spike_times'))\n",
    "print(\"Spike generator C times:\", nest.GetStatus(seq_3_generated, 'spike_times'))"
   ]
  },
  {
   "cell_type": "code",
   "execution_count": null,
   "metadata": {},
   "outputs": [],
   "source": []
  }
 ],
 "metadata": {
  "kernelspec": {
   "display_name": "venv",
   "language": "python",
   "name": "python3"
  },
  "language_info": {
   "codemirror_mode": {
    "name": "ipython",
    "version": 3
   },
   "file_extension": ".py",
   "mimetype": "text/x-python",
   "name": "python",
   "nbconvert_exporter": "python",
   "pygments_lexer": "ipython3",
   "version": "3.12.3"
  }
 },
 "nbformat": 4,
 "nbformat_minor": 2
}
